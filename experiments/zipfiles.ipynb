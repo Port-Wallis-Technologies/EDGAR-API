{
 "cells": [
  {
   "cell_type": "code",
   "execution_count": 19,
   "metadata": {},
   "outputs": [],
   "source": [
    "import zipfile\n",
    "import socket\n",
    "import datetime\n",
    "import sys\n",
    "import os\n",
    "\n",
    "datetime.datetime.now().timestamp()\n",
    "machine = socket.gethostname()\n",
    "last_run: datetime = datetime.datetime.today().replace(hour=0,minute=0,second=0,microsecond=0) - datetime.timedelta(4)\n",
    "datapath: str =  \"D:\\\\DATAexperiments\\\\EDGAR\"    if machine.upper().startswith(\"LANDFALL\")    else \"C:\\\\DATAexperiments\\\\EDGAR\"\n",
    "\n",
    "submissions_file: str = f\"{datapath}\\\\submissions.zip\"\n",
    "companyfacts_file: str = f\"{datapath}\\\\companyfacts.zip\"\n",
    "\n",
    "submissions = zipfile.PyZipFile(submissions_file)\n",
    "companyfacts = zipfile.PyZipFile(companyfacts_file)\n",
    "\n",
    "for s in [ (a.filename, datetime.datetime(*a.date_time).timestamp() )  for a in submissions.infolist()    if datetime.datetime(*a.date_time) > last_run ]:\n",
    "    submissions.extract(s[0],path=datapath+\"\\\\\" )\n",
    "    os.utime(datapath+\"\\\\\"+s[0],times=(s[1],s[1]))\n"
   ]
  },
  {
   "cell_type": "code",
   "execution_count": null,
   "metadata": {},
   "outputs": [],
   "source": [
    "\n",
    "\"\"\"\n",
    "for a in submissions_extracted :\n",
    "    submissions.extract(a,path=datapath)\n",
    "    os.utime(datapath+'\\\\'+a.filename,times=(datetime.datetime))\n",
    "companyfacts_extracted = [\n",
    "    a\n",
    "    for a in companyfacts.infolist()\n",
    "    if datetime.datetime(*a.date_time) > last_run\n",
    "]\n",
    "\n",
    "\"\"\""
   ]
  }
 ],
 "metadata": {
  "kernelspec": {
   "display_name": ".venv",
   "language": "python",
   "name": "python3"
  },
  "language_info": {
   "codemirror_mode": {
    "name": "ipython",
    "version": 3
   },
   "file_extension": ".py",
   "mimetype": "text/x-python",
   "name": "python",
   "nbconvert_exporter": "python",
   "pygments_lexer": "ipython3",
   "version": "3.11.4"
  },
  "orig_nbformat": 4
 },
 "nbformat": 4,
 "nbformat_minor": 2
}
