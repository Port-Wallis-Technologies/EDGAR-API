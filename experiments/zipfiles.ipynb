{
 "cells": [
  {
   "cell_type": "code",
   "execution_count": 9,
   "metadata": {},
   "outputs": [],
   "source": [
    "import zipfile\n",
    "import socket\n",
    "import datetime\n",
    "\n",
    "machine = socket.gethostname()\n",
    "submissions_file: str = (\n",
    "    \"D:\\DATAexperiments\\EDGAR\\submissions.zip\"\n",
    "    if machine.upper().startswith(\"LANDFALL\")\n",
    "    else \"C:\\DATAexperiments\\EDGAR\\submissions.zip\"\n",
    ")\n",
    "\n",
    "companyfacts_file: str = (\n",
    "    \"D:\\DATAexperiments\\EDGAR\\companyfacts.zip\"\n",
    "    if machine.upper().startswith(\"LANDFALL\")\n",
    "    else \"C:\\DATAexperiments\\EDGAR\\companyfacts.zip\"\n",
    ")\n",
    "\n",
    "submissions = zipfile.PyZipFile(submissions_file)\n",
    "companyfacts = zipfile.PyZipFile(companyfacts_file)\n",
    "submissions_info = [\n",
    "    a\n",
    "    for a in submissions.infolist()\n",
    "    if datetime.datetime(*a.date_time) > datetime.datetime(2023, 9, 2)\n",
    "]\n",
    "\n",
    "companyfacts_info = [\n",
    "    a\n",
    "    for a in companyfacts.infolist()\n",
    "    if datetime.datetime(*a.date_time) > datetime.datetime(2023, 9, 2)\n",
    "]"
   ]
  }
 ],
 "metadata": {
  "kernelspec": {
   "display_name": ".venv",
   "language": "python",
   "name": "python3"
  },
  "language_info": {
   "codemirror_mode": {
    "name": "ipython",
    "version": 3
   },
   "file_extension": ".py",
   "mimetype": "text/x-python",
   "name": "python",
   "nbconvert_exporter": "python",
   "pygments_lexer": "ipython3",
   "version": "3.11.4"
  },
  "orig_nbformat": 4
 },
 "nbformat": 4,
 "nbformat_minor": 2
}
